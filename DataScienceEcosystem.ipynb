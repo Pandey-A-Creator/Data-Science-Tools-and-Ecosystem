{
 "cells": [
  {
   "cell_type": "markdown",
   "id": "6d68e8c4-a081-4f51-826e-0c797206c369",
   "metadata": {},
   "source": [
    "# Data Science Tools and Ecosystem"
   ]
  },
  {
   "cell_type": "markdown",
   "id": "c778796e-acd4-4c33-ae28-8a4e85235c18",
   "metadata": {},
   "source": [
    "## In this notebook, Data Science Tools and Ecosystems are summarized."
   ]
  },
  {
   "cell_type": "markdown",
   "id": "3c81a797-3786-4d58-818b-45b2dab8a11d",
   "metadata": {},
   "source": [
    "##### Some of the popular languages that Data Scientists use are:"
   ]
  },
  {
   "cell_type": "markdown",
   "id": "13182820-b56b-4904-b558-1ec203b547b9",
   "metadata": {},
   "source": [
    "##### 1. Python\n",
    "##### 2. R\n",
    "##### 3. Scala"
   ]
  },
  {
   "cell_type": "markdown",
   "id": "b68e668e-5107-43ab-b698-f51707c148dc",
   "metadata": {},
   "source": [
    "##### Some of the popular libraries that Data Scientists use are:"
   ]
  },
  {
   "cell_type": "markdown",
   "id": "8b23e17d-fa33-480f-9a65-f9b4799a61b9",
   "metadata": {},
   "source": [
    "##### 1. Pandas\n",
    "##### 2. NumPy\n",
    "##### 3. Matplotlib"
   ]
  },
  {
   "cell_type": "markdown",
   "id": "9506f1df-7a0b-49e4-8d5f-373146b4a4b5",
   "metadata": {},
   "source": [
    "#### Data Science Tools:\n",
    "\n",
    "| Data Science Tools|\n",
    "|-------------------|\n",
    "| Python |\n",
    "| R |\n",
    "| Git |"
   ]
  },
  {
   "cell_type": "markdown",
   "id": "e772cf91-adce-41e2-adb2-0f8fc3da60c4",
   "metadata": {},
   "source": [
    "### Below are a few examples of evaluating arithmetic expressions in Python"
   ]
  },
  {
   "cell_type": "code",
   "execution_count": 26,
   "id": "b01fd2da-aa9b-410f-9ef5-76e31ff6c118",
   "metadata": {},
   "outputs": [
    {
     "data": {
      "text/plain": [
       "17"
      ]
     },
     "execution_count": 26,
     "metadata": {},
     "output_type": "execute_result"
    }
   ],
   "source": [
    "# This a simple arithmetic expression to multiply and then add integers\n",
    "(3*4)+5"
   ]
  },
  {
   "cell_type": "code",
   "execution_count": 38,
   "id": "cdeb765d-3304-4a7e-8208-1e8b4cdaada9",
   "metadata": {},
   "outputs": [
    {
     "name": "stdout",
     "output_type": "stream",
     "text": [
      "3.3333333333333335\n"
     ]
    }
   ],
   "source": [
    "# This will convert 200 minutes to hours by diving by 60\n",
    "Hours = 200/60\n",
    "print(Hours)"
   ]
  },
  {
   "cell_type": "markdown",
   "id": "9736a58d-a05f-4061-ac54-cc2da6e65ce4",
   "metadata": {},
   "source": [
    "### Objectives:\n",
    "\n",
    "+ Markdown and code\n",
    "+ Arithmetic Expressions\n",
    "+ Comments\n",
    "+ Ordered and unordered list\n",
    "+ Table"
   ]
  },
  {
   "cell_type": "markdown",
   "id": "19ef526b-9a1d-4c4b-9ca1-6adf4c22eb49",
   "metadata": {},
   "source": [
    "## Author\n",
    "###### Abhishek Pandey"
   ]
  }
 ],
 "metadata": {
  "kernelspec": {
   "display_name": "Python 3 (ipykernel)",
   "language": "python",
   "name": "python3"
  },
  "language_info": {
   "codemirror_mode": {
    "name": "ipython",
    "version": 3
   },
   "file_extension": ".py",
   "mimetype": "text/x-python",
   "name": "python",
   "nbconvert_exporter": "python",
   "pygments_lexer": "ipython3",
   "version": "3.11.7"
  }
 },
 "nbformat": 4,
 "nbformat_minor": 5
}
